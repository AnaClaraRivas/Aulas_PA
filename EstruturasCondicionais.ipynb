{
  "nbformat": 4,
  "nbformat_minor": 0,
  "metadata": {
    "colab": {
      "provenance": [],
      "authorship_tag": "ABX9TyPLsl9q9VZIDubgm4DsI6Ud",
      "include_colab_link": true
    },
    "kernelspec": {
      "name": "python3",
      "display_name": "Python 3"
    },
    "language_info": {
      "name": "python"
    }
  },
  "cells": [
    {
      "cell_type": "markdown",
      "metadata": {
        "id": "view-in-github",
        "colab_type": "text"
      },
      "source": [
        "<a href=\"https://colab.research.google.com/github/AnaClaraRivas/Aulas_PA/blob/main/EstruturasCondicionais.ipynb\" target=\"_parent\"><img src=\"https://colab.research.google.com/assets/colab-badge.svg\" alt=\"Open In Colab\"/></a>"
      ]
    },
    {
      "cell_type": "markdown",
      "source": [
        "# Estruturas Condicionais:"
      ],
      "metadata": {
        "id": "d79xacr8bdNv"
      }
    },
    {
      "cell_type": "markdown",
      "source": [
        "Avaliar se um aluno foi aprovado caso sua média de 3 notas seja maior ou igual á 5"
      ],
      "metadata": {
        "id": "2633O6iRbrd-"
      }
    },
    {
      "cell_type": "code",
      "execution_count": null,
      "metadata": {
        "colab": {
          "base_uri": "https://localhost:8080/"
        },
        "id": "wMCJRpR-Zp2r",
        "outputId": "a37f7970-3333-4d88-a35c-a7f9e1601121"
      },
      "outputs": [
        {
          "name": "stdout",
          "output_type": "stream",
          "text": [
            " Digite sua nota: 1\n",
            " Digite sua nota: 7\n",
            " Digite sua nota: 10\n"
          ]
        }
      ],
      "source": [
        "# Apuração das notas\n",
        "n1 = float(input(\" Digite sua nota: \"))\n",
        "n2 = float(input(\" Digite sua nota: \"))\n",
        "n3 = float(input(\" Digite sua nota: \"))"
      ]
    },
    {
      "cell_type": "code",
      "source": [
        "# Média das notas\n",
        "media = (n1 + n2 + n3)/3\n",
        "print( \" A média das notas é igual á\" ,media)"
      ],
      "metadata": {
        "colab": {
          "base_uri": "https://localhost:8080/"
        },
        "id": "myqpVUnDcR4l",
        "outputId": "b42a3e88-5e05-4804-d5eb-64f910d06537"
      },
      "execution_count": null,
      "outputs": [
        {
          "output_type": "stream",
          "name": "stdout",
          "text": [
            " A média das notas é igual á 6.0\n"
          ]
        }
      ]
    },
    {
      "cell_type": "code",
      "source": [
        "# Condição da média\n",
        "if ( media >= 5):\n",
        " print(\"APROVADO!\")\n",
        "\n",
        "print( \"Fim do programa...\")\n"
      ],
      "metadata": {
        "colab": {
          "base_uri": "https://localhost:8080/"
        },
        "id": "30jTjynGcmvu",
        "outputId": "83050ac7-06e9-432d-d492-8e19444c8ed5"
      },
      "execution_count": null,
      "outputs": [
        {
          "output_type": "stream",
          "name": "stdout",
          "text": [
            "APROVADO!\n",
            "Fim do programa...\n"
          ]
        }
      ]
    },
    {
      "cell_type": "markdown",
      "source": [
        "Avaliar se um aluno foi aprovado ou reprovado caso sua média de 3 notas seja maior ou igual á 5"
      ],
      "metadata": {
        "id": "SO4fnNSXfF4E"
      }
    },
    {
      "cell_type": "code",
      "source": [
        "n1 = float(input(\" Digite sua nota: \"))\n",
        "n2 = float(input(\" Digite sua nota: \"))\n",
        "n3 = float(input(\" Digite sua nota: \"))"
      ],
      "metadata": {
        "colab": {
          "base_uri": "https://localhost:8080/"
        },
        "id": "SWY6Y4bSfPeR",
        "outputId": "c353ffa8-fce9-4964-9bcd-5b0e26d639f4"
      },
      "execution_count": null,
      "outputs": [
        {
          "name": "stdout",
          "output_type": "stream",
          "text": [
            " Digite sua nota: 3\n",
            " Digite sua nota: 2\n",
            " Digite sua nota: 5\n"
          ]
        }
      ]
    },
    {
      "cell_type": "code",
      "source": [
        "media = (n1 + n2 + n3)/3\n",
        "print( \" A média das notas é igual á\" ,media)"
      ],
      "metadata": {
        "colab": {
          "base_uri": "https://localhost:8080/"
        },
        "id": "VEHTVdW_fR-0",
        "outputId": "39c7e5d0-0372-4c18-b918-46344031f264"
      },
      "execution_count": null,
      "outputs": [
        {
          "output_type": "stream",
          "name": "stdout",
          "text": [
            " A média das notas é igual á 3.3333333333333335\n"
          ]
        }
      ]
    },
    {
      "cell_type": "code",
      "source": [
        "if ( media > 5):\n",
        " print(\"APROVADO!\")\n",
        "\n",
        "else:\n",
        " print(\"REPROVADO!\")\n",
        "\n",
        "print( \"Fim do programa...\")\n"
      ],
      "metadata": {
        "colab": {
          "base_uri": "https://localhost:8080/"
        },
        "id": "7Nsz7JccfTxE",
        "outputId": "a45e6904-92c5-4bda-b000-26d91d0d8595"
      },
      "execution_count": null,
      "outputs": [
        {
          "output_type": "stream",
          "name": "stdout",
          "text": [
            "REPROVADO!\n",
            "Fim do programa...\n"
          ]
        }
      ]
    },
    {
      "cell_type": "markdown",
      "source": [
        "Avaliar se um aluno foi direcionado á recuperação,aprovadoou ou reprovado caso sua média de 3 notas seja maior que 5"
      ],
      "metadata": {
        "id": "ZygASdvEg--W"
      }
    },
    {
      "cell_type": "code",
      "source": [
        "n1 = float(input(\" Digite sua nota: \"))\n",
        "n2 = float(input(\" Digite sua nota: \"))\n",
        "n3 = float(input(\" Digite sua nota: \"))\n",
        "\n",
        "media = (n1 + n2 + n3)/3\n",
        "print( \" A média das notas é igual á\" ,media)\n"
      ],
      "metadata": {
        "colab": {
          "base_uri": "https://localhost:8080/"
        },
        "id": "wzlv0QwBiEjJ",
        "outputId": "3e9f692b-04c1-42c3-846a-e5131d0bff1a"
      },
      "execution_count": null,
      "outputs": [
        {
          "output_type": "stream",
          "name": "stdout",
          "text": [
            " Digite sua nota: 2\n",
            " Digite sua nota: 1\n",
            " Digite sua nota: 1\n",
            " A média das notas é igual á 1.3333333333333333\n"
          ]
        }
      ]
    },
    {
      "cell_type": "code",
      "source": [
        "if ( media > 5):\n",
        " print(\"Você está APROVADO!\")\n",
        "else:\n",
        "  if  (media < 4):\n",
        "   print(\"Você está REPROVADO!\")\n",
        "  else:\n",
        "   print(\"Você está de RECUPERAÇÃO!\")\n",
        "if ( media > 5):\n",
        "  print(\"PARABENS!!\")\n",
        "elif (media > 4):\n",
        "  print(\"Ainda tem uma chance!\")\n",
        "else:\n",
        "  print(\"Estude mais da próxima!\")"
      ],
      "metadata": {
        "colab": {
          "base_uri": "https://localhost:8080/"
        },
        "id": "QYE4FT-Hk0u6",
        "outputId": "f05818a7-62fa-4552-c8e2-efe113abca25"
      },
      "execution_count": null,
      "outputs": [
        {
          "output_type": "stream",
          "name": "stdout",
          "text": [
            "Você está REPROVADO!\n",
            "Estude mais da próxima!\n"
          ]
        }
      ]
    }
  ]
}