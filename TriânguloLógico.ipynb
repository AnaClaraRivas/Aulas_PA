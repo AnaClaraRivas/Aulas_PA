{
  "nbformat": 4,
  "nbformat_minor": 0,
  "metadata": {
    "colab": {
      "provenance": [],
      "authorship_tag": "ABX9TyN07C/6ZMGnNTcYHbKzSY7r",
      "include_colab_link": true
    },
    "kernelspec": {
      "name": "python3",
      "display_name": "Python 3"
    },
    "language_info": {
      "name": "python"
    }
  },
  "cells": [
    {
      "cell_type": "markdown",
      "metadata": {
        "id": "view-in-github",
        "colab_type": "text"
      },
      "source": [
        "<a href=\"https://colab.research.google.com/github/AnaClaraRivas/Aulas_PA/blob/main/Tri%C3%A2nguloL%C3%B3gico.ipynb\" target=\"_parent\"><img src=\"https://colab.research.google.com/assets/colab-badge.svg\" alt=\"Open In Colab\"/></a>"
      ]
    },
    {
      "cell_type": "markdown",
      "source": [
        "# Desafio referente aos lados de um triângulo:"
      ],
      "metadata": {
        "id": "t9Ee38YsSs2K"
      }
    },
    {
      "cell_type": "code",
      "execution_count": 9,
      "metadata": {
        "colab": {
          "base_uri": "https://localhost:8080/"
        },
        "id": "L0HZdlhGSdzy",
        "outputId": "ef6fa05a-18c3-4950-8ff6-b26335ccf6f9"
      },
      "outputs": [
        {
          "output_type": "stream",
          "name": "stdout",
          "text": [
            "Digite o valor do lado de um triângulo: 2\n",
            "Digite o valor do lado de um triângulo: 2\n",
            "Digite o valor do lado de um triângulo: 3\n",
            "Com esasas medidas, pode ser considerado um triângulo? True\n"
          ]
        }
      ],
      "source": [
        "a = float(input(\"Digite o valor do lado de um triângulo: \" ))\n",
        "b = float(input(\"Digite o valor do lado de um triângulo: \"))\n",
        "c = float(input(\"Digite o valor do lado de um triângulo: \"))\n",
        "\n",
        "triangulo = ((a + b > c) and (b + c > a) and (a + c > b))\n",
        "print(\"Com esasas medidas, pode ser considerado um triângulo?\" ,triangulo)\n"
      ]
    },
    {
      "cell_type": "markdown",
      "source": [
        "Equilatero:"
      ],
      "metadata": {
        "id": "9RbiHZIwWVnN"
      }
    },
    {
      "cell_type": "code",
      "source": [
        "equilatero = ((a == b) and (b == c))\n",
        "print(\"Com esasas medidas, pode ser considerado um triângulo equilatero?\" ,equilatero)"
      ],
      "metadata": {
        "colab": {
          "base_uri": "https://localhost:8080/"
        },
        "id": "Ek1EWSeFUrvN",
        "outputId": "274635a5-7fbf-44fe-bac9-26b15e223b3e"
      },
      "execution_count": 10,
      "outputs": [
        {
          "output_type": "stream",
          "name": "stdout",
          "text": [
            "Com esasas medidas, pode ser considerado um triângulo equilatero? False\n"
          ]
        }
      ]
    },
    {
      "cell_type": "markdown",
      "source": [
        "Escaleno:"
      ],
      "metadata": {
        "id": "-WI7e6xjX82r"
      }
    },
    {
      "cell_type": "code",
      "source": [
        "escaleno = ((a != b) and (c != b) and (c != a))\n",
        "print(\"Com esasas medidas, pode ser considerado um triângulo escaleno?\" ,escaleno)"
      ],
      "metadata": {
        "colab": {
          "base_uri": "https://localhost:8080/"
        },
        "id": "SgdYJkh3VDgK",
        "outputId": "1343e913-e49a-46a2-8e20-35949388559f"
      },
      "execution_count": 11,
      "outputs": [
        {
          "output_type": "stream",
          "name": "stdout",
          "text": [
            "Com esasas medidas, pode ser considerado um triângulo escaleno? False\n"
          ]
        }
      ]
    },
    {
      "cell_type": "markdown",
      "source": [
        "Isósceles:"
      ],
      "metadata": {
        "id": "sLxTO1TCX_L5"
      }
    },
    {
      "cell_type": "code",
      "source": [
        "isosceles = ((a != b) or (b != c) or (c != a))\n",
        "print(\"Com esasas medidas, pode ser considerado um triângulo isósceles?\" ,isosceles)\n"
      ],
      "metadata": {
        "colab": {
          "base_uri": "https://localhost:8080/"
        },
        "id": "mp3V5e8lVlKy",
        "outputId": "081fd049-a8f2-4423-d98e-dbeb5499f115"
      },
      "execution_count": 13,
      "outputs": [
        {
          "output_type": "stream",
          "name": "stdout",
          "text": [
            "Com esasas medidas, pode ser considerado um triângulo isósceles? True\n"
          ]
        }
      ]
    }
  ]
}
