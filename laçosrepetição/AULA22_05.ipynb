{
  "nbformat": 4,
  "nbformat_minor": 0,
  "metadata": {
    "colab": {
      "provenance": [],
      "authorship_tag": "ABX9TyOWtHbRQnTeBl7cEkmlFswF",
      "include_colab_link": true
    },
    "kernelspec": {
      "name": "python3",
      "display_name": "Python 3"
    },
    "language_info": {
      "name": "python"
    }
  },
  "cells": [
    {
      "cell_type": "markdown",
      "metadata": {
        "id": "view-in-github",
        "colab_type": "text"
      },
      "source": [
        "<a href=\"https://colab.research.google.com/github/AnaClaraRivas/Aulas_PA/blob/main/la%C3%A7osrepeti%C3%A7%C3%A3o/AULA22_05.ipynb\" target=\"_parent\"><img src=\"https://colab.research.google.com/assets/colab-badge.svg\" alt=\"Open In Colab\"/></a>"
      ]
    },
    {
      "cell_type": "markdown",
      "source": [
        "Faça um contador de 1 a 10 usando FOR e WHILE\n"
      ],
      "metadata": {
        "id": "SDbR3WDpgjC6"
      }
    },
    {
      "cell_type": "code",
      "execution_count": null,
      "metadata": {
        "colab": {
          "base_uri": "https://localhost:8080/"
        },
        "id": "qg3KvKOoewDP",
        "outputId": "791d8b52-04ed-4619-b87e-f9181fc664df"
      },
      "outputs": [
        {
          "output_type": "stream",
          "name": "stdout",
          "text": [
            "1\n",
            "2\n",
            "3\n",
            "4\n",
            "5\n",
            "6\n",
            "7\n",
            "8\n",
            "9\n",
            "10\n"
          ]
        }
      ],
      "source": [
        "for banana in range(1,11):\n",
        "  print(banana)"
      ]
    },
    {
      "cell_type": "code",
      "source": [
        "for x in range(1,11):\n",
        "  print(x,\" \",end=\" \")"
      ],
      "metadata": {
        "colab": {
          "base_uri": "https://localhost:8080/"
        },
        "id": "QgLy8asbgdTa",
        "outputId": "7a3c8f54-7b72-4352-bbb5-f4419f301725"
      },
      "execution_count": null,
      "outputs": [
        {
          "output_type": "stream",
          "name": "stdout",
          "text": [
            "1   2   3   4   5   6   7   8   9   10   "
          ]
        }
      ]
    },
    {
      "cell_type": "code",
      "source": [
        "num = 1\n",
        "while (num <= 10):\n",
        "  print (num)\n",
        "  num = num  + 1"
      ],
      "metadata": {
        "colab": {
          "base_uri": "https://localhost:8080/"
        },
        "id": "E3ti_3YsfNok",
        "outputId": "b4f1021b-f5ad-45a0-9b3a-22327b393a5a"
      },
      "execution_count": null,
      "outputs": [
        {
          "output_type": "stream",
          "name": "stdout",
          "text": [
            "1\n",
            "2\n",
            "3\n",
            "4\n",
            "5\n",
            "6\n",
            "7\n",
            "8\n",
            "9\n",
            "10\n"
          ]
        }
      ]
    },
    {
      "cell_type": "markdown",
      "source": [
        "Faça o contador acima de 0 até 9 só que agora imprimindo a seguinte mensagem:\n",
        "\n",
        "*   Volta n1 1 ==> 0\n",
        "\n",
        "*   Volta n1 2 ==> 1\n",
        "\n",
        "*   Volta n1 3 ==> 2\n",
        "\n",
        "...\n",
        "\n",
        "*  volta n10 ==> 9\n",
        "\n",
        "\n"
      ],
      "metadata": {
        "id": "5H9HFjxchRjr"
      }
    },
    {
      "cell_type": "code",
      "source": [
        "for x in range(10):\n",
        "  print(\"Volta n \",x+1, \"==>\", x)"
      ],
      "metadata": {
        "colab": {
          "base_uri": "https://localhost:8080/"
        },
        "id": "KT1qJSmPiGyt",
        "outputId": "3e824162-2389-4180-b57a-e2c4a113e56d"
      },
      "execution_count": null,
      "outputs": [
        {
          "output_type": "stream",
          "name": "stdout",
          "text": [
            "Volta n  1 ==> 0\n",
            "Volta n  2 ==> 1\n",
            "Volta n  3 ==> 2\n",
            "Volta n  4 ==> 3\n",
            "Volta n  5 ==> 4\n",
            "Volta n  6 ==> 5\n",
            "Volta n  7 ==> 6\n",
            "Volta n  8 ==> 7\n",
            "Volta n  9 ==> 8\n",
            "Volta n  10 ==> 9\n"
          ]
        }
      ]
    },
    {
      "cell_type": "markdown",
      "source": [
        "Faça o contador acima de 0 até 9 só que agora imprimindo a seguinte mensagem:\n",
        "\n",
        "Volta n1 1 ==> 0 ==> PAR\n",
        "\n",
        "Volta n1 2 ==> 1\n",
        "\n",
        "Volta n1 3 ==> 2==> PAR\n",
        "\n",
        "...\n",
        "\n",
        "volta n10 ==> 9"
      ],
      "metadata": {
        "id": "_iJcEo9Ajuo-"
      }
    },
    {
      "cell_type": "code",
      "source": [
        "for x in range(10):\n",
        "  if(x % 2 == 0 ):\n",
        "   print(\"Volta n \",x + 1, \"==>\", x ,\"==> PAR\")\n",
        "  else:\n",
        "   print(\"Volta n \",x + 1, \"==>\", x)"
      ],
      "metadata": {
        "colab": {
          "base_uri": "https://localhost:8080/"
        },
        "id": "AjoDy3iFj9Nq",
        "outputId": "9bcb2f53-6659-4aac-f4be-b8f8e44a4dbb"
      },
      "execution_count": null,
      "outputs": [
        {
          "output_type": "stream",
          "name": "stdout",
          "text": [
            "Volta n  1 ==> 0 ==> PAR\n",
            "Volta n  2 ==> 1\n",
            "Volta n  3 ==> 2 ==> PAR\n",
            "Volta n  4 ==> 3\n",
            "Volta n  5 ==> 4 ==> PAR\n",
            "Volta n  6 ==> 5\n",
            "Volta n  7 ==> 6 ==> PAR\n",
            "Volta n  8 ==> 7\n",
            "Volta n  9 ==> 8 ==> PAR\n",
            "Volta n  10 ==> 9\n"
          ]
        }
      ]
    },
    {
      "cell_type": "code",
      "source": [
        "for x in range(10):\n",
        "  if(x % 2 == 0 ):\n",
        "   print(\"Volta n \",x + 1, \"==>\", x ,\"==> PAR\")\n",
        "  else:\n",
        "   print(\"Volta n \",x + 1, \"==>\", x, \"==> IMPAR\")"
      ],
      "metadata": {
        "colab": {
          "base_uri": "https://localhost:8080/"
        },
        "id": "Xm6f9M4VlNKY",
        "outputId": "1f2728ed-b19b-4574-ff3b-f569e6b18ad3"
      },
      "execution_count": null,
      "outputs": [
        {
          "output_type": "stream",
          "name": "stdout",
          "text": [
            "Volta n  1 ==> 0 ==> PAR\n",
            "Volta n  2 ==> 1 ==> IMPAR\n",
            "Volta n  3 ==> 2 ==> PAR\n",
            "Volta n  4 ==> 3 ==> IMPAR\n",
            "Volta n  5 ==> 4 ==> PAR\n",
            "Volta n  6 ==> 5 ==> IMPAR\n",
            "Volta n  7 ==> 6 ==> PAR\n",
            "Volta n  8 ==> 7 ==> IMPAR\n",
            "Volta n  9 ==> 8 ==> PAR\n",
            "Volta n  10 ==> 9 ==> IMPAR\n"
          ]
        }
      ]
    },
    {
      "cell_type": "markdown",
      "source": [
        "Faça um programa que mostre a soma de 1 até 100:"
      ],
      "metadata": {
        "id": "yKnuzCOqlRqt"
      }
    },
    {
      "cell_type": "code",
      "source": [
        "soma = 0\n",
        "for x in range(1,101):\n",
        "  soma += x\n",
        "print(\"Total somado: \",soma)\n",
        "\n",
        "\n"
      ],
      "metadata": {
        "colab": {
          "base_uri": "https://localhost:8080/"
        },
        "id": "iOviyrWmlRNu",
        "outputId": "bd36c1b2-84c8-4ba0-b238-a322158a5bea"
      },
      "execution_count": null,
      "outputs": [
        {
          "output_type": "stream",
          "name": "stdout",
          "text": [
            "Total somado:  5050\n"
          ]
        }
      ]
    },
    {
      "cell_type": "markdown",
      "source": [
        "Faça um programa que receba um número inteiro digitado pelo usuario e diga se o número é primo ou não:"
      ],
      "metadata": {
        "id": "BrRUgVJFm2Tr"
      }
    },
    {
      "cell_type": "code",
      "source": [
        "numero = int(input(\"Digite um número: \"))\n",
        "qntde = 0\n",
        "if (numero < 0):\n",
        " print(\"Número inválido. O número deve ser POSITIVO\")\n",
        "else:\n",
        "  if (numero==0) or (numero==1):\n",
        "    print(\"Por definição 0 ou 1 não é primo.\")\n",
        "  else:\n",
        "    for x in range(1,numero+1):\n",
        "     resto = numero % x\n",
        "     print(\"Resto da divisão de\",numero,\"por\",x,\"=\",resto)\n",
        "     if (resto==0):\n",
        "      qntde = qntde + 1\n",
        "    print(\"Quantidade de restos igual a zero:\",qntde)\n",
        "    if (qntde == 2):\n",
        "      print(\"Este número É primo!\")\n",
        "    else:\n",
        "      print(\"Este número NÃO é primo!\")\n"
      ],
      "metadata": {
        "colab": {
          "base_uri": "https://localhost:8080/"
        },
        "id": "uTRx9tc3nONy",
        "outputId": "13376d8f-f8e1-4208-bd92-5fb3ccc2d538"
      },
      "execution_count": null,
      "outputs": [
        {
          "output_type": "stream",
          "name": "stdout",
          "text": [
            "Digite um número: 25\n",
            "Resto da divisão de 25 por 1 = 0\n",
            "Resto da divisão de 25 por 2 = 1\n",
            "Resto da divisão de 25 por 3 = 1\n",
            "Resto da divisão de 25 por 4 = 1\n",
            "Resto da divisão de 25 por 5 = 0\n",
            "Resto da divisão de 25 por 6 = 1\n",
            "Resto da divisão de 25 por 7 = 4\n",
            "Resto da divisão de 25 por 8 = 1\n",
            "Resto da divisão de 25 por 9 = 7\n",
            "Resto da divisão de 25 por 10 = 5\n",
            "Resto da divisão de 25 por 11 = 3\n",
            "Resto da divisão de 25 por 12 = 1\n",
            "Resto da divisão de 25 por 13 = 12\n",
            "Resto da divisão de 25 por 14 = 11\n",
            "Resto da divisão de 25 por 15 = 10\n",
            "Resto da divisão de 25 por 16 = 9\n",
            "Resto da divisão de 25 por 17 = 8\n",
            "Resto da divisão de 25 por 18 = 7\n",
            "Resto da divisão de 25 por 19 = 6\n",
            "Resto da divisão de 25 por 20 = 5\n",
            "Resto da divisão de 25 por 21 = 4\n",
            "Resto da divisão de 25 por 22 = 3\n",
            "Resto da divisão de 25 por 23 = 2\n",
            "Resto da divisão de 25 por 24 = 1\n",
            "Resto da divisão de 25 por 25 = 0\n",
            "Quantidade de restos igual a zero: 3\n",
            "Este número NÃO é primo!\n"
          ]
        }
      ]
    },
    {
      "cell_type": "code",
      "source": [
        "numero = int(input(\"Digite um número: \"))\n",
        "qntde = 0\n",
        "if (numero < 0):\n",
        " print(\"Número inválido. O número deve ser POSITIVO\")\n",
        "else:\n",
        "  if (numero==0) or (numero==1):\n",
        "    print(\"Por definição 0 ou 1 não é primo.\")\n",
        "  else:\n",
        "    for x in range(1,numero+1):\n",
        "     resto = numero % x\n",
        "     if (resto==0):\n",
        "      qntde = qntde + 1\n",
        "    if (qntde == 2):\n",
        "      print(\"Este número É primo!\")\n",
        "    else:\n",
        "      print(\"Este número NÃO é primo!\")"
      ],
      "metadata": {
        "colab": {
          "base_uri": "https://localhost:8080/"
        },
        "id": "C1jVLTYiw2s3",
        "outputId": "c9fe2ec1-16de-4145-df39-834c184d98a3"
      },
      "execution_count": null,
      "outputs": [
        {
          "output_type": "stream",
          "name": "stdout",
          "text": [
            "Digite um número: 25\n",
            "Este número NÃO é primo!\n"
          ]
        }
      ]
    },
    {
      "cell_type": "markdown",
      "source": [
        "Escreva um programa que imprima o n-ésimo elemento de uma serie de Fibonacci. Esse valor será digitado pelo usuario. Exemplo: numero 4.\n",
        "\n",
        "*   saida 1-1-2-3-5\n",
        "*   numero = 5\n",
        "*   saida = 1-1-2-3-5-8\n",
        "\n",
        "\n",
        "\n",
        "\n"
      ],
      "metadata": {
        "id": "jX4y8HdnxLFt"
      }
    },
    {
      "cell_type": "code",
      "source": [
        "numero = int(input(\"Digite um número: \"))\n",
        "anterior = 0\n",
        "atual = 1\n",
        "proximo = 0\n",
        "for x in range(0,numero + 1):\n",
        "  fibonacci = (x-1) + (x-2)"
      ],
      "metadata": {
        "colab": {
          "base_uri": "https://localhost:8080/"
        },
        "id": "3ZXJEWW_z4z4",
        "outputId": "9209df30-bc67-4508-9e1b-26d054aa7958"
      },
      "execution_count": null,
      "outputs": [
        {
          "output_type": "stream",
          "name": "stdout",
          "text": [
            "Digite um número: 5\n",
            "-5\n",
            "-3\n",
            "-1\n",
            "1\n",
            "3\n",
            "5\n"
          ]
        }
      ]
    }
  ]
}