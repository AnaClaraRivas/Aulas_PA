{
  "nbformat": 4,
  "nbformat_minor": 0,
  "metadata": {
    "colab": {
      "provenance": [],
      "authorship_tag": "ABX9TyPZgeJMnHabkmM7X9MfN5WC",
      "include_colab_link": true
    },
    "kernelspec": {
      "name": "python3",
      "display_name": "Python 3"
    },
    "language_info": {
      "name": "python"
    }
  },
  "cells": [
    {
      "cell_type": "markdown",
      "metadata": {
        "id": "view-in-github",
        "colab_type": "text"
      },
      "source": [
        "<a href=\"https://colab.research.google.com/github/AnaClaraRivas/Aulas_PA/blob/main/la%C3%A7osrepeti%C3%A7%C3%A3o/Estruturas_de_repeti%C3%A7%C3%A3o.ipynb\" target=\"_parent\"><img src=\"https://colab.research.google.com/assets/colab-badge.svg\" alt=\"Open In Colab\"/></a>"
      ]
    },
    {
      "cell_type": "code",
      "execution_count": null,
      "metadata": {
        "colab": {
          "base_uri": "https://localhost:8080/"
        },
        "id": "4Flf4g6jYcUq",
        "outputId": "f6b9208c-c462-46d3-80b4-4ccfbff35118"
      },
      "outputs": [
        {
          "output_type": "stream",
          "name": "stdout",
          "text": [
            "Bom dia!\n",
            "Bom dia!\n",
            "Bom dia!\n",
            "Bom dia!\n",
            "Bom dia!\n",
            "Bom dia!\n",
            "Bom dia!\n",
            "Bom dia!\n",
            "Bom dia!\n",
            "Bom dia!\n"
          ]
        }
      ],
      "source": [
        "# IMPRIMIR NA TELA A FRASE \"BOM DIA\" 10 VEZES\n",
        "print(\"Bom dia!\")\n",
        "print(\"Bom dia!\")\n",
        "print(\"Bom dia!\")\n",
        "print(\"Bom dia!\")\n",
        "print(\"Bom dia!\")\n",
        "print(\"Bom dia!\")\n",
        "print(\"Bom dia!\")\n",
        "print(\"Bom dia!\")\n",
        "print(\"Bom dia!\")\n",
        "print(\"Bom dia!\")"
      ]
    },
    {
      "cell_type": "code",
      "source": [
        "# LAÇO DE REPETIÇÃO FOR\n",
        "for i in range(10):\n",
        "  print(i+1,\"- Bom dia!\")"
      ],
      "metadata": {
        "colab": {
          "base_uri": "https://localhost:8080/"
        },
        "id": "YzF9if3LZqux",
        "outputId": "04b1e95e-fa29-4d70-956c-5fa9d17081d7"
      },
      "execution_count": null,
      "outputs": [
        {
          "output_type": "stream",
          "name": "stdout",
          "text": [
            "1 - Bom dia!\n",
            "2 - Bom dia!\n",
            "3 - Bom dia!\n",
            "4 - Bom dia!\n",
            "5 - Bom dia!\n",
            "6 - Bom dia!\n",
            "7 - Bom dia!\n",
            "8 - Bom dia!\n",
            "9 - Bom dia!\n",
            "10 - Bom dia!\n"
          ]
        }
      ]
    },
    {
      "cell_type": "code",
      "source": [
        "for i in range(1,11):\n",
        "  print(i,\"- Bom dia!\")"
      ],
      "metadata": {
        "colab": {
          "base_uri": "https://localhost:8080/"
        },
        "id": "FJSBnrAwbWeN",
        "outputId": "1742aab9-1642-4d02-e327-a4ce0aa07ce0"
      },
      "execution_count": null,
      "outputs": [
        {
          "output_type": "stream",
          "name": "stdout",
          "text": [
            "1 - Bom dia!\n",
            "2 - Bom dia!\n",
            "3 - Bom dia!\n",
            "4 - Bom dia!\n",
            "5 - Bom dia!\n",
            "6 - Bom dia!\n",
            "7 - Bom dia!\n",
            "8 - Bom dia!\n",
            "9 - Bom dia!\n",
            "10 - Bom dia!\n"
          ]
        }
      ]
    },
    {
      "cell_type": "code",
      "source": [
        "# MOSTRAR TODOS OS NÚMERO ÍMPARES DE 1 A 30\n",
        "for i in range(1,31):\n",
        "  if i%2==1:\n",
        "    print(i)\n"
      ],
      "metadata": {
        "colab": {
          "base_uri": "https://localhost:8080/"
        },
        "id": "bvm3A-PSbjoh",
        "outputId": "c1de7e1f-3f44-4f26-a7e1-bf0fabf78f7a"
      },
      "execution_count": null,
      "outputs": [
        {
          "output_type": "stream",
          "name": "stdout",
          "text": [
            "1\n",
            "3\n",
            "5\n",
            "7\n",
            "9\n",
            "11\n",
            "13\n",
            "15\n",
            "17\n",
            "19\n",
            "21\n",
            "23\n",
            "25\n",
            "27\n",
            "29\n"
          ]
        }
      ]
    },
    {
      "cell_type": "code",
      "source": [
        "for i in range(1,31):\n",
        "  if i%2==0:\n",
        "    print(i)"
      ],
      "metadata": {
        "colab": {
          "base_uri": "https://localhost:8080/"
        },
        "id": "UMGAwzW4fJPY",
        "outputId": "7bb9adc8-8a76-4e3f-9561-62a0dcae74c7"
      },
      "execution_count": null,
      "outputs": [
        {
          "output_type": "stream",
          "name": "stdout",
          "text": [
            "2\n",
            "4\n",
            "6\n",
            "8\n",
            "10\n",
            "12\n",
            "14\n",
            "16\n",
            "18\n",
            "20\n",
            "22\n",
            "24\n",
            "26\n",
            "28\n",
            "30\n"
          ]
        }
      ]
    },
    {
      "cell_type": "code",
      "source": [
        "# COMPUTADOR DE UM NÚMERO INICIAL E UM NÚMERO FINAL\n",
        "# DIGITADOS PELO USUÁRIO\n",
        "\n",
        "inicio = int(input(\"Digite o valor do número inicial: \"))\n",
        "fim = int(input(\"Digite o valor do número final: \"))\n",
        "\n",
        "if inicio > fim:\n",
        "  auxiliar = inicio\n",
        "  inicio = fim\n",
        "  fim = auxiliar\n",
        "\n",
        "for i in range(inicio,fim+1):\n",
        "  print(i)"
      ],
      "metadata": {
        "colab": {
          "base_uri": "https://localhost:8080/"
        },
        "id": "661cIaqWfdoQ",
        "outputId": "bd5c28eb-c4d1-4297-e3f4-dfe0832de727"
      },
      "execution_count": null,
      "outputs": [
        {
          "output_type": "stream",
          "name": "stdout",
          "text": [
            "Digite o valor do número inicial: 7\n",
            "Digite o valor do número final: 2\n",
            "2\n",
            "3\n",
            "4\n",
            "5\n",
            "6\n",
            "7\n"
          ]
        }
      ]
    },
    {
      "cell_type": "code",
      "source": [
        "inicio = int(input(\"Digite o valor do número inicial: \"))\n",
        "fim = int(input(\"Digite o valor do número final: \"))\n",
        "\n",
        "if inicio > fim:\n",
        "  inicio,fim = fim,inicio\n",
        "\n",
        "for i in range(inicio,fim+1):\n",
        "  print(i)"
      ],
      "metadata": {
        "colab": {
          "base_uri": "https://localhost:8080/"
        },
        "id": "i6kDRWAyi2g7",
        "outputId": "7e92beba-d220-422e-892e-a85060f4e73d"
      },
      "execution_count": null,
      "outputs": [
        {
          "output_type": "stream",
          "name": "stdout",
          "text": [
            "Digite o valor do número inicial: 2\n",
            "Digite o valor do número final: 7\n",
            "2\n",
            "3\n",
            "4\n",
            "5\n",
            "6\n",
            "7\n"
          ]
        }
      ]
    },
    {
      "cell_type": "code",
      "source": [
        "# SOME TODOS OS NÚMEROS DE 1 A 10\n",
        "soma = 0\n",
        "for i in range(1,11):\n",
        "  soma = soma + i\n",
        "  print(\"Acumulado => \",soma)\n",
        "\n",
        "print(\"Total => \",soma)"
      ],
      "metadata": {
        "colab": {
          "base_uri": "https://localhost:8080/"
        },
        "id": "ds0KTEvBjWzx",
        "outputId": "f320863a-efa1-49cc-bba1-2fe0ea0c7805"
      },
      "execution_count": null,
      "outputs": [
        {
          "output_type": "stream",
          "name": "stdout",
          "text": [
            "Acumulado =>  1\n",
            "Acumulado =>  3\n",
            "Acumulado =>  6\n",
            "Acumulado =>  10\n",
            "Acumulado =>  15\n",
            "Acumulado =>  21\n",
            "Acumulado =>  28\n",
            "Acumulado =>  36\n",
            "Acumulado =>  45\n",
            "Acumulado =>  55\n",
            "Total =>  55\n"
          ]
        }
      ]
    },
    {
      "cell_type": "code",
      "source": [
        "# SOMA DE TODOS OS NÚMEROS ÍMPARES DE 1 ATÉ 100\n",
        "soma = 0\n",
        "for i in range(1,101):\n",
        "  if i%2==1:\n",
        "    soma = soma + i\n",
        "print(\"Total => \", soma)\n"
      ],
      "metadata": {
        "colab": {
          "base_uri": "https://localhost:8080/"
        },
        "id": "K6QLrEkIlS-y",
        "outputId": "3735c5f2-2b8e-486c-ff5e-3b7ef4b81a65"
      },
      "execution_count": null,
      "outputs": [
        {
          "output_type": "stream",
          "name": "stdout",
          "text": [
            "Total =>  2500\n"
          ]
        }
      ]
    },
    {
      "cell_type": "code",
      "source": [
        "# CONTADOR DE 1 A 10 COM WHILE\n",
        "num = 1\n",
        "while (num <= 10):\n",
        "  print (num)\n",
        "  num = num  + 1\n"
      ],
      "metadata": {
        "colab": {
          "base_uri": "https://localhost:8080/"
        },
        "id": "Ae2xloJcnAR6",
        "outputId": "fd7e16e7-b9db-40fe-84c4-8afe93c115dc"
      },
      "execution_count": null,
      "outputs": [
        {
          "output_type": "stream",
          "name": "stdout",
          "text": [
            "1\n",
            "2\n",
            "3\n",
            "4\n",
            "5\n",
            "6\n",
            "7\n",
            "8\n",
            "9\n",
            "10\n"
          ]
        }
      ]
    },
    {
      "cell_type": "code",
      "source": [
        "# DIGITE NÚMEROS ATÉ QUE O USUÁRIO DIGITE 0\n",
        "num = int(input(\"Digite um valor: \"))\n",
        "while num != 0:\n",
        "  num = int(input(\"Digite um valor: \"))"
      ],
      "metadata": {
        "id": "9QyqDQBZpn0o",
        "colab": {
          "base_uri": "https://localhost:8080/"
        },
        "outputId": "7e0ad4b9-3b29-4ecd-c06a-ca4fbc526eff"
      },
      "execution_count": null,
      "outputs": [
        {
          "name": "stdout",
          "output_type": "stream",
          "text": [
            "Digite um valor: 7\n"
          ]
        }
      ]
    },
    {
      "cell_type": "code",
      "source": [
        "# SOMAR NÚMEROS ATÉ QUE O USUÁRIO DIGITE 0\n",
        "num = int(input(\"Digite um valor: \"))\n",
        "soma = num\n",
        "while num != 0:\n",
        "  num = int(input(\"Digite um valor: \"))\n",
        "  soma += num\n",
        "\n",
        "print(\"Total =\" , soma)\n",
        "\n"
      ],
      "metadata": {
        "colab": {
          "base_uri": "https://localhost:8080/"
        },
        "id": "X-AMFqLPxNJc",
        "outputId": "1ced0690-fcc8-4ba9-af89-3179b0c1b8af"
      },
      "execution_count": null,
      "outputs": [
        {
          "output_type": "stream",
          "name": "stdout",
          "text": [
            "Digite um valor: 1\n",
            "Digite um valor: 3\n",
            "Digite um valor: 5\n",
            "Digite um valor: 4\n",
            "Digite um valor: 0\n",
            "Total = 13\n"
          ]
        }
      ]
    },
    {
      "cell_type": "code",
      "source": [
        "# CRIANDO UM MENU DE OPÇÕES\n",
        "opcao = 0\n",
        "while opcao != 4:\n",
        "  print(\"ESCOLHA UMA OPÇÃO\")\n",
        "  print(\"Digite 1 para OPÇÃO 1\")\n",
        "  print(\"Digite 2 para OPÇÃO 2\")\n",
        "  print(\"Digite 3 para OPÇÃO 3\")\n",
        "  print(\"Digite 4 para SAIR\")\n",
        "  opcao = int(input(\"Sua opção => \"))\n",
        "\n",
        "\n",
        "\n",
        "if opcao == 1:\n",
        "  print(\"Você escolheu a opção 1\")\n",
        "\n",
        "if opcao == 2:\n",
        "  print(\"Você escolheu a opção 2\")\n",
        "\n",
        "if opcao == 3:\n",
        "  print(\"Você escolheu a opção 3\")\n",
        "\n",
        "\n",
        "\n",
        "\n"
      ],
      "metadata": {
        "id": "3_jIASxAzB8M",
        "colab": {
          "base_uri": "https://localhost:8080/"
        },
        "outputId": "bd4089e8-c39b-4940-8eca-4d2cbc06eeed"
      },
      "execution_count": null,
      "outputs": [
        {
          "name": "stdout",
          "output_type": "stream",
          "text": [
            "ESCOLHA UMA OPÇÃO\n",
            "Digite 1 para OPÇÃO 1\n",
            "Digite 2 para OPÇÃO 2\n",
            "Digite 3 para OPÇÃO 3\n",
            "Digite 4 para SAIR\n",
            "Sua opção => 1\n",
            "ESCOLHA UMA OPÇÃO\n",
            "Digite 1 para OPÇÃO 1\n",
            "Digite 2 para OPÇÃO 2\n",
            "Digite 3 para OPÇÃO 3\n",
            "Digite 4 para SAIR\n",
            "Sua opção => 3\n",
            "ESCOLHA UMA OPÇÃO\n",
            "Digite 1 para OPÇÃO 1\n",
            "Digite 2 para OPÇÃO 2\n",
            "Digite 3 para OPÇÃO 3\n",
            "Digite 4 para SAIR\n",
            "Sua opção => 4\n"
          ]
        }
      ]
    }
  ]
}